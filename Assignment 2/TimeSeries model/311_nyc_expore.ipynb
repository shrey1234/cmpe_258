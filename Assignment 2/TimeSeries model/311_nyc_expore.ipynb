{
 "cells": [
  {
   "cell_type": "code",
   "execution_count": null,
   "metadata": {
    "colab": {},
    "colab_type": "code",
    "id": "ur8xi4C7S06n"
   },
   "outputs": [],
   "source": [
    "# Copyright 2020 Google LLC\n",
    "#\n",
    "# Licensed under the Apache License, Version 2.0 (the \"License\");\n",
    "# you may not use this file except in compliance with the License.\n",
    "# You may obtain a copy of the License at\n",
    "#\n",
    "#     https://www.apache.org/licenses/LICENSE-2.0\n",
    "#\n",
    "# Unless required by applicable law or agreed to in writing, software\n",
    "# distributed under the License is distributed on an \"AS IS\" BASIS,\n",
    "# WITHOUT WARRANTIES OR CONDITIONS OF ANY KIND, either express or implied.\n",
    "# See the License for the specific language governing permissions and\n",
    "# limitations under the License."
   ]
  },
  {
   "cell_type": "markdown",
   "metadata": {
    "colab_type": "text",
    "id": "tvgnzT1CKxrO"
   },
   "source": [
    "# Overview\n",
    "\n",
    "In this notebook, you will learn how to load, explore, visualize, and pre-process a time-series dataset. The output of this notebook is a processed dataset that will be used in following notebooks to build a machine learning model.\n",
    "\n",
    "### Dataset\n",
    "\n",
    "[CTA - Ridership - Daily Boarding Totals](https://data.cityofchicago.org/Transportation/CTA-Ridership-Daily-Boarding-Totals/6iiy-9s97): This dataset shows systemwide boardings for both bus and rail services provided by Chicago Transit Authority, dating back to 2001.\n",
    "\n",
    "### Objective\n",
    "\n",
    "The goal is to forecast future transit ridership in the City of Chicago, based on previous ridership."
   ]
  },
  {
   "cell_type": "markdown",
   "metadata": {
    "colab_type": "text",
    "id": "i7EUnXsZhAGF"
   },
   "source": [
    "## Install packages and dependencies"
   ]
  },
  {
   "cell_type": "markdown",
   "metadata": {},
   "source": [
    "Restarting the kernel may be required to use new packages."
   ]
  },
  {
   "cell_type": "code",
   "execution_count": 1,
   "metadata": {
    "colab": {},
    "colab_type": "code",
    "id": "wyy5Lbnzg5fi"
   },
   "outputs": [
    {
     "name": "stdout",
     "output_type": "stream",
     "text": [
      "Requirement already satisfied: statsmodels in /opt/conda/lib/python3.7/site-packages (0.12.2)\n",
      "Requirement already satisfied: scikit-learn in /opt/conda/lib/python3.7/site-packages (0.24.1)\n",
      "Requirement already satisfied: scipy>=0.19.1 in /opt/conda/lib/python3.7/site-packages (from scikit-learn) (1.6.0)\n",
      "Requirement already satisfied: numpy>=1.13.3 in /opt/conda/lib/python3.7/site-packages (from scikit-learn) (1.19.5)\n",
      "Requirement already satisfied: threadpoolctl>=2.0.0 in /opt/conda/lib/python3.7/site-packages (from scikit-learn) (2.1.0)\n",
      "Requirement already satisfied: joblib>=0.11 in /opt/conda/lib/python3.7/site-packages (from scikit-learn) (1.0.1)\n",
      "Requirement already satisfied: pandas>=0.21 in /opt/conda/lib/python3.7/site-packages (from statsmodels) (1.2.2)\n",
      "Requirement already satisfied: patsy>=0.5 in /opt/conda/lib/python3.7/site-packages (from statsmodels) (0.5.1)\n",
      "Requirement already satisfied: python-dateutil>=2.7.3 in /opt/conda/lib/python3.7/site-packages (from pandas>=0.21->statsmodels) (2.8.1)\n",
      "Requirement already satisfied: pytz>=2017.3 in /opt/conda/lib/python3.7/site-packages (from pandas>=0.21->statsmodels) (2021.1)\n",
      "Requirement already satisfied: six in /opt/conda/lib/python3.7/site-packages (from patsy>=0.5->statsmodels) (1.15.0)\n",
      "Note: you may need to restart the kernel to use updated packages.\n"
     ]
    }
   ],
   "source": [
    "%pip install -U statsmodels scikit-learn --user"
   ]
  },
  {
   "cell_type": "markdown",
   "metadata": {},
   "source": [
    "**Note:** To restart the Kernel, navigate to Kernel > Restart Kernel... on the Jupyter menu."
   ]
  },
  {
   "cell_type": "markdown",
   "metadata": {
    "colab_type": "text",
    "id": "XoEqT2Y4DJmf"
   },
   "source": [
    "### Import libraries and define constants"
   ]
  },
  {
   "cell_type": "code",
   "execution_count": 1,
   "metadata": {
    "colab": {},
    "colab_type": "code",
    "id": "pRUOFELefqf1"
   },
   "outputs": [],
   "source": [
    "from pandas.plotting import register_matplotlib_converters\n",
    "from statsmodels.graphics.tsaplots import plot_acf\n",
    "from statsmodels.tsa.seasonal import seasonal_decompose\n",
    "from statsmodels.tsa.stattools import grangercausalitytests\n",
    "\n",
    "import matplotlib.pyplot as plt\n",
    "import pandas as pd\n",
    "import seaborn as sns"
   ]
  },
  {
   "cell_type": "code",
   "execution_count": 6,
   "metadata": {
    "colab": {},
    "colab_type": "code",
    "id": "oM1iC_MfAts1"
   },
   "outputs": [],
   "source": [
    "# Enter your project and region. Then run the  cell to make sure the\n",
    "# Cloud SDK uses the right project for all the commands in this notebook.\n",
    "\n",
    "PROJECT = 'deep-learning-platform-305222' # REPLACE WITH YOUR PROJECT NAME \n",
    "REGION = 'us-central-1' # REPLACE WITH YOUR REGION e.g. us-central1\n",
    "\n",
    "#Don't change the following command - this is to check if you have changed the project name above.\n",
    "assert PROJECT != 'your-project-name', 'Don''t forget to change the project variables!'"
   ]
  },
  {
   "cell_type": "code",
   "execution_count": 12,
   "metadata": {},
   "outputs": [],
   "source": [
    "target = 'y' # The variable you are predicting\n",
    "target_description = 'Total Rides' # A description of the target variable\n",
    "features = {'day_type': 'Day Type'} # Weekday = W, Saturday = A, Sunday/Holiday = U\n",
    "ts_col = 'ds' # The name of the column with the date field\n",
    "\n",
    "raw_data_file = 'https://data.cityofchicago.org/api/views/6iiy-9s97/rows.csv?accessType=DOWNLOAD'\n",
    "processed_file = 'nyc_311.csv' # Which file to save the results to"
   ]
  },
  {
   "cell_type": "markdown",
   "metadata": {},
   "source": [
    "## Load data"
   ]
  },
  {
   "cell_type": "markdown",
   "metadata": {},
   "source": [
    "## Explore data"
   ]
  },
  {
   "cell_type": "code",
   "execution_count": 7,
   "metadata": {},
   "outputs": [
    {
     "data": {
      "text/html": [
       "<div>\n",
       "<style scoped>\n",
       "    .dataframe tbody tr th:only-of-type {\n",
       "        vertical-align: middle;\n",
       "    }\n",
       "\n",
       "    .dataframe tbody tr th {\n",
       "        vertical-align: top;\n",
       "    }\n",
       "\n",
       "    .dataframe thead th {\n",
       "        text-align: right;\n",
       "    }\n",
       "</style>\n",
       "<table border=\"1\" class=\"dataframe\">\n",
       "  <thead>\n",
       "    <tr style=\"text-align: right;\">\n",
       "      <th></th>\n",
       "      <th>unique_key</th>\n",
       "      <th>created_date</th>\n",
       "      <th>closed_date</th>\n",
       "      <th>agency</th>\n",
       "      <th>agency_name</th>\n",
       "      <th>complaint_type</th>\n",
       "      <th>descriptor</th>\n",
       "      <th>location_type</th>\n",
       "      <th>incident_zip</th>\n",
       "      <th>incident_address</th>\n",
       "      <th>...</th>\n",
       "      <th>vehicle_type</th>\n",
       "      <th>taxi_company_borough</th>\n",
       "      <th>taxi_pickup_location</th>\n",
       "      <th>bridge_highway_name</th>\n",
       "      <th>bridge_highway_direction</th>\n",
       "      <th>road_ramp</th>\n",
       "      <th>bridge_highway_segment</th>\n",
       "      <th>latitude</th>\n",
       "      <th>longitude</th>\n",
       "      <th>location</th>\n",
       "    </tr>\n",
       "  </thead>\n",
       "  <tbody>\n",
       "    <tr>\n",
       "      <th>0</th>\n",
       "      <td>24971566</td>\n",
       "      <td>2013-02-10 16:32:40+00:00</td>\n",
       "      <td>2013-02-11 12:20:54+00:00</td>\n",
       "      <td>DFTA</td>\n",
       "      <td>Department for the Aging</td>\n",
       "      <td>Housing - Low Income Senior</td>\n",
       "      <td>N/A</td>\n",
       "      <td>Senior Address</td>\n",
       "      <td>10454</td>\n",
       "      <td>None</td>\n",
       "      <td>...</td>\n",
       "      <td>None</td>\n",
       "      <td>None</td>\n",
       "      <td>None</td>\n",
       "      <td>None</td>\n",
       "      <td>None</td>\n",
       "      <td>None</td>\n",
       "      <td>None</td>\n",
       "      <td>NaN</td>\n",
       "      <td>NaN</td>\n",
       "      <td>None</td>\n",
       "    </tr>\n",
       "    <tr>\n",
       "      <th>1</th>\n",
       "      <td>25003455</td>\n",
       "      <td>2013-02-15 12:31:52+00:00</td>\n",
       "      <td>2013-02-20 12:38:24+00:00</td>\n",
       "      <td>DFTA</td>\n",
       "      <td>Department for the Aging</td>\n",
       "      <td>Housing - Low Income Senior</td>\n",
       "      <td>N/A</td>\n",
       "      <td>Senior Address</td>\n",
       "      <td>10454</td>\n",
       "      <td>None</td>\n",
       "      <td>...</td>\n",
       "      <td>None</td>\n",
       "      <td>None</td>\n",
       "      <td>None</td>\n",
       "      <td>None</td>\n",
       "      <td>None</td>\n",
       "      <td>None</td>\n",
       "      <td>None</td>\n",
       "      <td>NaN</td>\n",
       "      <td>NaN</td>\n",
       "      <td>None</td>\n",
       "    </tr>\n",
       "    <tr>\n",
       "      <th>2</th>\n",
       "      <td>25058152</td>\n",
       "      <td>2013-02-23 09:47:54+00:00</td>\n",
       "      <td>2013-02-23 10:51:21+00:00</td>\n",
       "      <td>NYPD</td>\n",
       "      <td>New York City Police Department</td>\n",
       "      <td>Homeless Encampment</td>\n",
       "      <td>N/A</td>\n",
       "      <td>Residential Building/House</td>\n",
       "      <td>10455</td>\n",
       "      <td>720 WESTCHESTER AVENUE</td>\n",
       "      <td>...</td>\n",
       "      <td>None</td>\n",
       "      <td>None</td>\n",
       "      <td>None</td>\n",
       "      <td>None</td>\n",
       "      <td>None</td>\n",
       "      <td>None</td>\n",
       "      <td>None</td>\n",
       "      <td>40.817187</td>\n",
       "      <td>-73.906616</td>\n",
       "      <td>(40.817186555273494, -73.90661626221494)</td>\n",
       "    </tr>\n",
       "    <tr>\n",
       "      <th>3</th>\n",
       "      <td>25065929</td>\n",
       "      <td>2013-02-25 10:14:35+00:00</td>\n",
       "      <td>2013-02-27 11:59:35+00:00</td>\n",
       "      <td>DFTA</td>\n",
       "      <td>Department for the Aging</td>\n",
       "      <td>Housing - Low Income Senior</td>\n",
       "      <td>N/A</td>\n",
       "      <td>Senior Address</td>\n",
       "      <td>10454</td>\n",
       "      <td>None</td>\n",
       "      <td>...</td>\n",
       "      <td>None</td>\n",
       "      <td>None</td>\n",
       "      <td>None</td>\n",
       "      <td>None</td>\n",
       "      <td>None</td>\n",
       "      <td>None</td>\n",
       "      <td>None</td>\n",
       "      <td>NaN</td>\n",
       "      <td>NaN</td>\n",
       "      <td>None</td>\n",
       "    </tr>\n",
       "    <tr>\n",
       "      <th>4</th>\n",
       "      <td>25065931</td>\n",
       "      <td>2013-02-25 15:43:04+00:00</td>\n",
       "      <td>2013-02-27 12:13:45+00:00</td>\n",
       "      <td>DFTA</td>\n",
       "      <td>Department for the Aging</td>\n",
       "      <td>Housing - Low Income Senior</td>\n",
       "      <td>N/A</td>\n",
       "      <td>Senior Address</td>\n",
       "      <td>10451</td>\n",
       "      <td>None</td>\n",
       "      <td>...</td>\n",
       "      <td>None</td>\n",
       "      <td>None</td>\n",
       "      <td>None</td>\n",
       "      <td>None</td>\n",
       "      <td>None</td>\n",
       "      <td>None</td>\n",
       "      <td>None</td>\n",
       "      <td>NaN</td>\n",
       "      <td>NaN</td>\n",
       "      <td>None</td>\n",
       "    </tr>\n",
       "  </tbody>\n",
       "</table>\n",
       "<p>5 rows × 41 columns</p>\n",
       "</div>"
      ],
      "text/plain": [
       "   unique_key              created_date               closed_date agency  \\\n",
       "0    24971566 2013-02-10 16:32:40+00:00 2013-02-11 12:20:54+00:00   DFTA   \n",
       "1    25003455 2013-02-15 12:31:52+00:00 2013-02-20 12:38:24+00:00   DFTA   \n",
       "2    25058152 2013-02-23 09:47:54+00:00 2013-02-23 10:51:21+00:00   NYPD   \n",
       "3    25065929 2013-02-25 10:14:35+00:00 2013-02-27 11:59:35+00:00   DFTA   \n",
       "4    25065931 2013-02-25 15:43:04+00:00 2013-02-27 12:13:45+00:00   DFTA   \n",
       "\n",
       "                       agency_name               complaint_type descriptor  \\\n",
       "0         Department for the Aging  Housing - Low Income Senior        N/A   \n",
       "1         Department for the Aging  Housing - Low Income Senior        N/A   \n",
       "2  New York City Police Department          Homeless Encampment        N/A   \n",
       "3         Department for the Aging  Housing - Low Income Senior        N/A   \n",
       "4         Department for the Aging  Housing - Low Income Senior        N/A   \n",
       "\n",
       "                location_type incident_zip        incident_address  ...  \\\n",
       "0              Senior Address        10454                    None  ...   \n",
       "1              Senior Address        10454                    None  ...   \n",
       "2  Residential Building/House        10455  720 WESTCHESTER AVENUE  ...   \n",
       "3              Senior Address        10454                    None  ...   \n",
       "4              Senior Address        10451                    None  ...   \n",
       "\n",
       "  vehicle_type taxi_company_borough taxi_pickup_location bridge_highway_name  \\\n",
       "0         None                 None                 None                None   \n",
       "1         None                 None                 None                None   \n",
       "2         None                 None                 None                None   \n",
       "3         None                 None                 None                None   \n",
       "4         None                 None                 None                None   \n",
       "\n",
       "  bridge_highway_direction road_ramp bridge_highway_segment   latitude  \\\n",
       "0                     None      None                   None        NaN   \n",
       "1                     None      None                   None        NaN   \n",
       "2                     None      None                   None  40.817187   \n",
       "3                     None      None                   None        NaN   \n",
       "4                     None      None                   None        NaN   \n",
       "\n",
       "   longitude                                  location  \n",
       "0        NaN                                      None  \n",
       "1        NaN                                      None  \n",
       "2 -73.906616  (40.817186555273494, -73.90661626221494)  \n",
       "3        NaN                                      None  \n",
       "4        NaN                                      None  \n",
       "\n",
       "[5 rows x 41 columns]"
      ]
     },
     "execution_count": 7,
     "metadata": {},
     "output_type": "execute_result"
    }
   ],
   "source": [
    "# Print the top 5 rows\n",
    "\n",
    "from google.cloud import bigquery as bq\n",
    "\n",
    "sql = \"\"\"\n",
    "SELECT * FROM `bigquery-public-data.new_york_311.311_service_requests` LIMIT 5\n",
    "\"\"\"\n",
    "\n",
    "client = bq.Client(project=PROJECT)\n",
    "df = client.query(sql).to_dataframe()\n",
    "\n",
    "df.head()"
   ]
  },
  {
   "cell_type": "markdown",
   "metadata": {},
   "source": [
    "### TODO 1: Analyze the patterns\n",
    "\n",
    "* Is ridership changing much over time?\n",
    "* Is there a difference in ridership between the weekday and weekends?\n",
    "* Is the mix of bus vs rail ridership changing over time?"
   ]
  },
  {
   "cell_type": "code",
   "execution_count": 14,
   "metadata": {},
   "outputs": [
    {
     "data": {
      "text/html": [
       "<div>\n",
       "<style scoped>\n",
       "    .dataframe tbody tr th:only-of-type {\n",
       "        vertical-align: middle;\n",
       "    }\n",
       "\n",
       "    .dataframe tbody tr th {\n",
       "        vertical-align: top;\n",
       "    }\n",
       "\n",
       "    .dataframe thead th {\n",
       "        text-align: right;\n",
       "    }\n",
       "</style>\n",
       "<table border=\"1\" class=\"dataframe\">\n",
       "  <thead>\n",
       "    <tr style=\"text-align: right;\">\n",
       "      <th></th>\n",
       "      <th>y</th>\n",
       "      <th>ds</th>\n",
       "    </tr>\n",
       "  </thead>\n",
       "  <tbody>\n",
       "    <tr>\n",
       "      <th>0</th>\n",
       "      <td>182117</td>\n",
       "      <td>2010-01-01</td>\n",
       "    </tr>\n",
       "    <tr>\n",
       "      <th>1</th>\n",
       "      <td>159489</td>\n",
       "      <td>2010-02-01</td>\n",
       "    </tr>\n",
       "    <tr>\n",
       "      <th>2</th>\n",
       "      <td>198639</td>\n",
       "      <td>2010-03-01</td>\n",
       "    </tr>\n",
       "    <tr>\n",
       "      <th>3</th>\n",
       "      <td>162854</td>\n",
       "      <td>2010-04-01</td>\n",
       "    </tr>\n",
       "    <tr>\n",
       "      <th>4</th>\n",
       "      <td>158039</td>\n",
       "      <td>2010-05-01</td>\n",
       "    </tr>\n",
       "  </tbody>\n",
       "</table>\n",
       "</div>"
      ],
      "text/plain": [
       "        y          ds\n",
       "0  182117  2010-01-01\n",
       "1  159489  2010-02-01\n",
       "2  198639  2010-03-01\n",
       "3  162854  2010-04-01\n",
       "4  158039  2010-05-01"
      ]
     },
     "execution_count": 14,
     "metadata": {},
     "output_type": "execute_result"
    }
   ],
   "source": [
    "# Print the top 5 rows\n",
    "\n",
    "from google.cloud import bigquery as bq\n",
    "\n",
    "sql = \"\"\"\n",
    "SELECT\n",
    "  COUNT(unique_key) as y,\n",
    "  DATE_TRUNC(DATE(created_date), month) as ds  \n",
    "FROM `bigquery-public-data.new_york_311.311_service_requests`\n",
    "GROUP by ds ORDER BY ds asc\n",
    "\"\"\"\n",
    "\n",
    "client = bq.Client(project=PROJECT)\n",
    "df = client.query(sql).to_dataframe()\n",
    "\n",
    "df.head()"
   ]
  },
  {
   "cell_type": "markdown",
   "metadata": {},
   "source": [
    "## Export data\n",
    "\n",
    "This will generate a CSV file, which you will use in the next labs of this quest.\n",
    "Inspect the CSV file to see what the data looks like."
   ]
  },
  {
   "cell_type": "code",
   "execution_count": 16,
   "metadata": {},
   "outputs": [],
   "source": [
    "df[[target]].to_csv(\"nyc_311_monthly.csv\", index=True, index_label=ts_col)"
   ]
  },
  {
   "cell_type": "markdown",
   "metadata": {},
   "source": [
    "## Conclusion"
   ]
  },
  {
   "cell_type": "markdown",
   "metadata": {},
   "source": [
    "You've successfully completed the exploration and visualization lab.\n",
    "You've learned how to:\n",
    "* Create a query that groups data into a time series\n",
    "* Visualize data\n",
    "* Decompose time series into trend and seasonal components"
   ]
  }
 ],
 "metadata": {
  "colab": {
   "collapsed_sections": [],
   "name": "ai_platform_notebooks_template.ipynb",
   "provenance": [],
   "toc_visible": true
  },
  "environment": {
   "name": "tf2-gpu.2-1.mnightly-2021-02-12-debian-10-test",
   "type": "gcloud",
   "uri": "gcr.io/deeplearning-platform-release/tf2-gpu.2-1:mnightly-2021-02-12-debian-10-test"
  },
  "kernelspec": {
   "display_name": "Python 3",
   "language": "python",
   "name": "python3"
  },
  "language_info": {
   "codemirror_mode": {
    "name": "ipython",
    "version": 3
   },
   "file_extension": ".py",
   "mimetype": "text/x-python",
   "name": "python",
   "nbconvert_exporter": "python",
   "pygments_lexer": "ipython3",
   "version": "3.7.9"
  }
 },
 "nbformat": 4,
 "nbformat_minor": 4
}
